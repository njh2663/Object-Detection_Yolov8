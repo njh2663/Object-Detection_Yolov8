{
 "cells": [
  {
   "cell_type": "code",
   "execution_count": 1,
   "metadata": {},
   "outputs": [],
   "source": [
    "from PIL import Image, ImageDraw\n",
    "import os\n",
    "import json"
   ]
  },
  {
   "cell_type": "markdown",
   "metadata": {},
   "source": [
    "### Find BBOX Location"
   ]
  },
  {
   "cell_type": "code",
   "execution_count": 2,
   "metadata": {},
   "outputs": [],
   "source": [
    "# 이미지 경로\n",
    "image_path = r\"C:\\Users\\njh26\\Desktop\\Coding\\03.Project\\Object_Detection_Yolov8\\subset_data\\image\\apple\\IMG_0129210_apple(apple).jpg\"\n",
    "\n",
    "# 박스 좌표\n",
    "bbox = [359.0, 507.0, 359.0 + 333.0, 507.0 + 286.0]  # [x_min, y_min, x_max, y_max]\n",
    "\n",
    "# 이미지 불러오기\n",
    "image = Image.open(image_path)\n",
    "\n",
    "# ImageDraw 객체 생성\n",
    "draw = ImageDraw.Draw(image)\n",
    "\n",
    "# 박스 그리기\n",
    "draw.rectangle(bbox, outline=\"red\")\n",
    "\n",
    "image.show()\n",
    "# image.save(\"annotated_image.jpg\")"
   ]
  },
  {
   "cell_type": "markdown",
   "metadata": {},
   "source": [
    "### bbox로 입력된 좌표는 xmin, ymin, width, height임을 확인함"
   ]
  },
  {
   "cell_type": "markdown",
   "metadata": {},
   "source": [
    "# Ground Truth"
   ]
  },
  {
   "cell_type": "code",
   "execution_count": 3,
   "metadata": {},
   "outputs": [],
   "source": [
    "# 폴더 생성\n",
    "dir = './GT/{}/'\n",
    "obc_list = ['apple', 'banana','bowl','dumbbell']  \n",
    "\n",
    "for obc in obc_list:   \n",
    "    try:\n",
    "        if not os.path.exists(dir.format(obc)):\n",
    "            os.makedirs(dir.format(obc))\n",
    "        else:\n",
    "            print('Folder has already been created')\n",
    "    except OSError:\n",
    "        print('Error: Creating folder. ')"
   ]
  },
  {
   "cell_type": "code",
   "execution_count": 5,
   "metadata": {},
   "outputs": [],
   "source": [
    "# Test 파일의 경로\n",
    "test_path = './subset_data_TVT/test/{}/{}/'      \n",
    "\n",
    "# 저장될 경로 \n",
    "save_path = './GT/{}/'             \n",
    "\n",
    "# 종별, 상태별 Test 이미지 경로를 찾고 GT 그리기\n",
    "for obc in obc_list: # 식용곤충 6종\n",
    "        # 이미지 파일명 리스트 저장\n",
    "        test_images = os.listdir(test_path.format('images', obc))\n",
    "\n",
    "        for image in test_images:\n",
    "            # 이미지 열기\n",
    "            img = Image.open(test_path.format('images', obc) + image)\n",
    "            draw = ImageDraw.Draw(img)\n",
    "\n",
    "            # 라벨링 파일 가져오기\n",
    "            with open(test_path.format('RS_labels', obc) + image.split('.')[0] + '_(4_1).json', mode = 'r', encoding = 'utf-8') as f:\n",
    "                jsonfile = json.load(f)\n",
    "\n",
    "            # Ground Truth 그리기\n",
    "            for annot in jsonfile['annotations']:\n",
    "                draw.rectangle((annot['bbox'][0], annot['bbox'][1],\n",
    "                               annot['bbox'][0] + annot['bbox'][2], annot['bbox'][1] + annot['bbox'][3]),\n",
    "                                outline=(255,0,0),   # 빨간색   # 흰색 사용할때는 white\n",
    "                                width=3)  \n",
    "\n",
    "            # 이미지 저장 \n",
    "            img.save(save_path.format(obc) + image)              "
   ]
  }
 ],
 "metadata": {
  "kernelspec": {
   "display_name": "vir",
   "language": "python",
   "name": "python3"
  },
  "language_info": {
   "codemirror_mode": {
    "name": "ipython",
    "version": 3
   },
   "file_extension": ".py",
   "mimetype": "text/x-python",
   "name": "python",
   "nbconvert_exporter": "python",
   "pygments_lexer": "ipython3",
   "version": "3.8.6"
  }
 },
 "nbformat": 4,
 "nbformat_minor": 2
}

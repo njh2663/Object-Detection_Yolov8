{
 "cells": [
  {
   "cell_type": "markdown",
   "metadata": {},
   "source": [
    "# Setting"
   ]
  },
  {
   "cell_type": "code",
   "execution_count": 1,
   "metadata": {},
   "outputs": [],
   "source": [
    "# 라이브러리 불러오기\n",
    "import os\n",
    "import json\n",
    "import yaml\n",
    "import shutil\n",
    "import numpy as np\n",
    "import logging\n",
    "from random import sample\n",
    "import random\n",
    "from tqdm import tqdm"
   ]
  },
  {
   "cell_type": "code",
   "execution_count": 2,
   "metadata": {},
   "outputs": [],
   "source": [
    "# 시드를 설정\n",
    "# 반복 수행하더라도 train, valid, test가 동일하게 분할되도록 함\n",
    "random.seed(42)"
   ]
  },
  {
   "cell_type": "code",
   "execution_count": 3,
   "metadata": {},
   "outputs": [
    {
     "name": "stderr",
     "output_type": "stream",
     "text": [
      "Time : 2024-03-05 11:03:01,370 , Message : preprocessing started\n"
     ]
    }
   ],
   "source": [
    "# log 생성\n",
    "logger = logging.getLogger()\n",
    "logger.setLevel(logging.INFO)   \n",
    "formatter = logging.Formatter('Time : %(asctime)s , Message : %(message)s')  # log 출력 형식 지정\n",
    "\n",
    "# log를 console에 출력\n",
    "stream_handler = logging.StreamHandler()\n",
    "stream_handler.setFormatter(formatter)\n",
    "logger.addHandler(stream_handler)\n",
    "\n",
    "logger.info('preprocessing started')"
   ]
  },
  {
   "cell_type": "markdown",
   "metadata": {},
   "source": [
    "## Function"
   ]
  },
  {
   "cell_type": "code",
   "execution_count": 4,
   "metadata": {},
   "outputs": [],
   "source": [
    "# 폴더 생성 함수\n",
    "def createFolder(root_dir):\n",
    "    '''\n",
    "    폴더 구조\n",
    "    train\n",
    "        images\n",
    "        labels\n",
    "        RS_labels\n",
    "    valid\n",
    "        images\n",
    "        labels\n",
    "        RS_labels\n",
    "    test\n",
    "        images\n",
    "        labels\n",
    "        RS_labels\n",
    "    '''\n",
    "    try:\n",
    "        for mode in mode_list:  # Train / Valid / Test\n",
    "            for IL in ['images', 'labels', 'RS_labels']:     \n",
    "                    # 이미지 파일 / yolo input data형식으로 전처리한 파일 / 라벨링 파일\n",
    "                    for object in obc_list:   # 식용곤충 6종\n",
    "                        dir = root_dir + f'/{mode}/{IL}/{object}'\n",
    "                        if not os.path.exists(dir):\n",
    "                            os.makedirs(dir)\n",
    "    except OSError:\n",
    "        print('Error: Creating directory. ' + root_dir)"
   ]
  },
  {
   "cell_type": "code",
   "execution_count": 5,
   "metadata": {},
   "outputs": [],
   "source": [
    "# TVT 분할 함수\n",
    "def data_copy_save(load_path, save_path, object):\n",
    "    # 파일명 목록 가져오기\n",
    "    file_names = os.listdir(load_path + f'/image/{object}')\n",
    "\n",
    "    # index를 통해 TVT 분할\n",
    "    total_idx = range(len(file_names))\n",
    "    train_idx = sample(total_idx, int(len(file_names) * 0.8))  # train 비율 80% 지정\n",
    "    temp_idx = list(set(total_idx) - set(train_idx))    \n",
    "    valid_idx = sample(temp_idx, int(len(temp_idx) * 0.5))  # train을 제외하고 50%씩 분할  \n",
    "    test_idx = list(set(temp_idx) - set(valid_idx))\n",
    "    tvt_list = np.asarray(file_names)\n",
    "\n",
    "    # TVT 리스트 저장\n",
    "    train_list = tvt_list[train_idx]\n",
    "    valid_list = tvt_list[valid_idx]\n",
    "    test_list = tvt_list[test_idx]\n",
    "\n",
    "    for tvt_list, mode in zip([train_list, valid_list, test_list], mode_list):\n",
    "        for file_name in tqdm(tvt_list, desc = f'{object} | {mode} |'):\n",
    "            \n",
    "            # 이미지, 라벨 복사\n",
    "            shutil.copyfile(load_path + f'/image/{object}/' + file_name,\n",
    "                            save_path + f'/{mode}/images/{object}/' + file_name)\n",
    "            \n",
    "            shutil.copyfile(load_path + f'/label/{object}/' + file_name.split('.')[0] + '_(4_1).json',\n",
    "                            save_path + f'/{mode}/RS_labels/{object}/' + file_name.split('.')[0] + '_(4_1).json')  \n",
    "            \n",
    "            # 라벨링 파일을 yolo 모델 형식에 맞도록 변환\n",
    "            # 라벨링 파일 load\n",
    "            with open(load_path + f'/label/{object}/' + file_name.split('.')[0] + '_(4_1).json', encoding = 'utf-8') as f:\n",
    "                jsonfile = json.load(f)\n",
    "                \n",
    "            image_info = jsonfile['images'][0]  # 이미지 정보는 리스트 안에 있으므로 첫 번째 항목을 선택합니다.\n",
    "            w = image_info['width']    # 해상도 : 너비\n",
    "            h = image_info['height']   # 해상도 : 높이\n",
    "            \n",
    "            box_objects = jsonfile['annotations']  # 어노테이션 부분 추출\n",
    "            labels = []\n",
    "            bboxs = []\n",
    "            \n",
    "\n",
    "            category_mapping = {68: 0, 67: 1, 57: 2, 33: 3}   # 일부 라벨만 학습하기 위해 변형\n",
    "            for obj in box_objects:\n",
    "                if obj['category_id'] in [68, 67, 57, 33] :  # apple, banana, bowl, dumbbell 일 경우에만 라벨 추가\n",
    "                    labels.append(category_mapping[obj['category_id']])   # 라벨을 0,1,2,3으로 매핑해서 추가\n",
    "                    bboxs.append(obj['bbox'])\n",
    "\n",
    "            bboxs = np.asarray(bboxs, dtype=np.float64)\n",
    "\n",
    "            try:   # BBOX의 너비와 높이를 해상도의 너비와 높이로 나누어 표준화\n",
    "                bboxs[:, [0,2]] /= w   \n",
    "                bboxs[:, [1,3]] /= h\n",
    "                labels = np.array(labels).reshape(len(labels), 1)   # 4개 클래스가 안 들어있는 이미지를 pass하도록 try문으로 구성\n",
    "                bboxs[:, :2] = bboxs[:, :2] + bboxs[:, 2:] / 2.0\n",
    "                annot_out = np.concatenate((labels, bboxs), axis=1)\n",
    "            except: pass\n",
    "\n",
    "            # 변환 완료한 txt 파일 저장\n",
    "            # yolo 모델은 txt 형식의 라벨링 파일이 필요함\n",
    "            with open(root_dir + f'/{mode}/labels/{object}/' + file_name.split('.')[0] + '.txt', \"w\") as f:\n",
    "                for line in annot_out:\n",
    "                    line = np.asarray(line, dtype=str)\n",
    "                    line[0] = line[0].split('.')[0]\n",
    "                    f.write(' '.join(line) + '\\n')"
   ]
  },
  {
   "cell_type": "code",
   "execution_count": 6,
   "metadata": {},
   "outputs": [],
   "source": [
    "# yolo모델에 필요한 yaml 파일 생성 함수\n",
    "def Yolov8_yaml(classes, root_dir):\n",
    "    info = {\n",
    "        'train' : './train/images',\n",
    "        'val': './valid/images',\n",
    "        'test': './test/images',\n",
    "        'nc' : len(classes),\n",
    "        'names' : classes\n",
    "        }\n",
    "    \n",
    "    # 파일 저장\n",
    "    with open(f'{root_dir}/Yolov8_data.yaml', 'w') as f:\n",
    "        yaml.dump(info, f)"
   ]
  },
  {
   "cell_type": "markdown",
   "metadata": {},
   "source": [
    "## Run"
   ]
  },
  {
   "cell_type": "code",
   "execution_count": 7,
   "metadata": {},
   "outputs": [],
   "source": [
    "# 원천 데이터 경로\n",
    "original_data_path = './subset_data'      \n",
    "\n",
    "# 저장할 TVT 데이터 경로\n",
    "root_dir = './subset_data_TVT'                  \n",
    "\n",
    "# Train, Valid, Test\n",
    "mode_list = ['train', 'valid', 'test']\n",
    "\n",
    "# 학습할 객체 폴더명\n",
    "obc_list = ['apple', 'banana','bowl','dumbbell']"
   ]
  },
  {
   "cell_type": "code",
   "execution_count": 8,
   "metadata": {},
   "outputs": [],
   "source": [
    "classes = [\n",
    "    'apple',\n",
    "    'banana',\n",
    "    'bowl',\n",
    "    'dumbbell'\n",
    "]"
   ]
  },
  {
   "cell_type": "code",
   "execution_count": 9,
   "metadata": {},
   "outputs": [
    {
     "name": "stderr",
     "output_type": "stream",
     "text": [
      "Time : 2024-03-05 11:03:01,469 , Message : folder and yaml file created\n"
     ]
    }
   ],
   "source": [
    "# directory 생성\n",
    "createFolder(root_dir = root_dir)\n",
    "\n",
    "# yolov8 data yaml file 생성\n",
    "Yolov8_yaml(classes=classes, root_dir = root_dir) \n",
    "\n",
    "logger.info('folder and yaml file created')"
   ]
  },
  {
   "cell_type": "code",
   "execution_count": 10,
   "metadata": {},
   "outputs": [
    {
     "name": "stderr",
     "output_type": "stream",
     "text": [
      "apple | train |: 100%|██████████| 3873/3873 [00:21<00:00, 182.74it/s]\n",
      "apple | valid |: 100%|██████████| 484/484 [00:02<00:00, 180.92it/s]\n",
      "apple | test |: 100%|██████████| 485/485 [00:02<00:00, 188.42it/s]\n",
      "Time : 2024-03-05 11:03:27,936 , Message : apple TVT split completed\n",
      "banana | train |: 100%|██████████| 13526/13526 [01:16<00:00, 175.73it/s]\n",
      "banana | valid |: 100%|██████████| 1691/1691 [00:10<00:00, 166.88it/s]\n",
      "banana | test |: 100%|██████████| 1691/1691 [00:10<00:00, 166.48it/s]\n",
      "Time : 2024-03-05 11:05:05,236 , Message : banana TVT split completed\n",
      "bowl | train |: 100%|██████████| 3952/3952 [00:24<00:00, 160.93it/s]\n",
      "bowl | valid |: 100%|██████████| 494/494 [00:02<00:00, 171.64it/s]\n",
      "bowl | test |: 100%|██████████| 495/495 [00:03<00:00, 144.09it/s]\n",
      "Time : 2024-03-05 11:05:36,206 , Message : bowl TVT split completed\n",
      "dumbbell | train |: 100%|██████████| 13936/13936 [01:23<00:00, 166.32it/s]\n",
      "dumbbell | valid |: 100%|██████████| 1742/1742 [00:10<00:00, 171.72it/s]\n",
      "dumbbell | test |: 100%|██████████| 1742/1742 [00:10<00:00, 159.40it/s]\n",
      "Time : 2024-03-05 11:07:21,105 , Message : dumbbell TVT split completed\n",
      "Time : 2024-03-05 11:07:21,106 , Message : preprocessing ended\n"
     ]
    }
   ],
   "source": [
    "# TVT 분할\n",
    "for object in obc_list:          \n",
    "        data_copy_save(load_path = original_data_path, save_path = root_dir, \n",
    "                       object = object)\n",
    "        \n",
    "        logger.info(f'{object} TVT split completed')\n",
    "\n",
    "logger.info('preprocessing ended')"
   ]
  }
 ],
 "metadata": {
  "kernelspec": {
   "display_name": "Python 3",
   "language": "python",
   "name": "python3"
  },
  "language_info": {
   "codemirror_mode": {
    "name": "ipython",
    "version": 3
   },
   "file_extension": ".py",
   "mimetype": "text/x-python",
   "name": "python",
   "nbconvert_exporter": "python",
   "pygments_lexer": "ipython3",
   "version": "3.8.6"
  }
 },
 "nbformat": 4,
 "nbformat_minor": 2
}
